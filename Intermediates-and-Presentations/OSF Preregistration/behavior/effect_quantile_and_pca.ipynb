{
 "cells": [
  {
   "cell_type": "code",
   "execution_count": 1,
   "metadata": {},
   "outputs": [],
   "source": [
    "import numpy as np\n",
    "import pandas as pd\n",
    "import sklearn.preprocessing as pre\n",
    "import sklearn.decomposition as dec\n",
    "import matplotlib.pyplot as plt"
   ]
  },
  {
   "cell_type": "code",
   "execution_count": 2,
   "metadata": {},
   "outputs": [],
   "source": [
    "unfiltered_scores = pd.read_csv(\"/data/NIMH_scratch/zwallymi/behavioral/no_na_scores.csv\", dtype=str)\n",
    "no_subject = unfiltered_scores[unfiltered_scores.columns[2:]]\n",
    "no_cash = pd.concat([no_subject[no_subject.columns[:10]], no_subject[no_subject.columns[11:]]], axis=1)"
   ]
  },
  {
   "cell_type": "code",
   "execution_count": null,
   "metadata": {},
   "outputs": [],
   "source": [
    "arrays = []\n",
    "for row in no_cash.index :\n",
    "    numeric = pd.to_numeric(no_cash.iloc[row], errors='coerce')\n",
    "    arrays.append(np.array(numeric))\n",
    "numpy = np.array(arrays)\n",
    "numpy.shape"
   ]
  },
  {
   "cell_type": "code",
   "execution_count": 4,
   "metadata": {},
   "outputs": [],
   "source": [
    "transformed = pre.quantile_transform(numpy)"
   ]
  },
  {
   "cell_type": "code",
   "execution_count": null,
   "metadata": {},
   "outputs": [],
   "source": [
    "pca = dec.PCA(n_components=transformed.shape[1])\n",
    "PCs = pca.fit_transform(transformed)\n",
    "vari_explain = pca.explained_variance_ratio_\n",
    "s = pca.singular_values_\n",
    "vari_explain.cumsum()"
   ]
  },
  {
   "cell_type": "code",
   "execution_count": 9,
   "metadata": {},
   "outputs": [],
   "source": [
    "np.save('/data/NIMH_scratch/zwallymi/gradients_and_behavior/effect_behavior_pca.npy', PCs[:17])"
   ]
  },
  {
   "cell_type": "code",
   "execution_count": null,
   "metadata": {},
   "outputs": [],
   "source": [
    "plt.plot(range(25), vari_explain, 'o-', linewidth=2, color='blue')\n",
    "plt.title('Scree Plot')\n",
    "plt.xlabel('Principal Component')\n",
    "plt.ylabel('Variance Explained')\n",
    "plt.show()"
   ]
  }
 ],
 "metadata": {
  "kernelspec": {
   "display_name": "base",
   "language": "python",
   "name": "python3"
  },
  "language_info": {
   "codemirror_mode": {
    "name": "ipython",
    "version": 3
   },
   "file_extension": ".py",
   "mimetype": "text/x-python",
   "name": "python",
   "nbconvert_exporter": "python",
   "pygments_lexer": "ipython3",
   "version": "3.11.4"
  }
 },
 "nbformat": 4,
 "nbformat_minor": 2
}
