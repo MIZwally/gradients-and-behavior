{
 "cells": [
  {
   "cell_type": "markdown",
   "metadata": {},
   "source": [
    "Plotting group gradients on 3D surface mesh"
   ]
  },
  {
   "cell_type": "code",
   "execution_count": null,
   "metadata": {},
   "outputs": [],
   "source": [
    "from brainspace.datasets import load_conte69, load_parcellation\n",
    "from brainspace.utils.parcellation import map_to_labels\n",
    "from brainspace.plotting import plot_hemispheres\n",
    "import numpy as np\n",
    "import pandas as pd\n",
    "\n",
    "# load in and format group gradients\n",
    "abcd_gradients = np.load(\"/Users/zwallymi/Desktop/graphing_gradients/group_site_regressed_gradients.npy\")\n",
    "hcp_gradients = np.load(\"/Users/zwallymi/Desktop/graphing_gradients/hcp_gradients.npy\")\n",
    "pd_gradients = pd.DataFrame({'ABCD 1': abcd_gradients[:,0] * -1, 'ABCD 2': abcd_gradients[:,1] * -1, 'HCP 1': hcp_gradients[:,0], 'HCP 2': hcp_gradients[:,1]})\n",
    "all_gradients = np.array(pd_gradients)"
   ]
  },
  {
   "cell_type": "code",
   "execution_count": null,
   "metadata": {},
   "outputs": [],
   "source": [
    "# map gradients to parcellation\n",
    "labeling = load_parcellation('schaefer', scale=400, join=True)\n",
    "grad = [None] * 4\n",
    "for i in range(4):\n",
    "    grad[i] = map_to_labels(all_gradients[:,i], labeling, mask=labeling != 0, fill=np.nan)\n",
    "\n",
    "# load surface mesh and generate images\n",
    "surf_lh, surf_rh = load_conte69()\n",
    "plot_hemispheres(surf_lh, surf_rh, array_name=grad, size=(1200, 400),\n",
    "                    color_bar=True, label_text=['ABCD 1', 'ABCD 2', 'HCP 1', 'HCP 2'], zoom=1.5)"
   ]
  },
  {
   "cell_type": "code",
   "execution_count": 8,
   "metadata": {},
   "outputs": [],
   "source": [
    "# Yeo 7 networks image\n",
    "# load schaefer labels for networks\n",
    "with open('/Users/zwallymi/Desktop/graphing_gradients/Schaefer2018_400Parcels_17Networks_order_info.txt') as file:\n",
    "    info_text = [line.strip() for line in file]\n",
    "    \n",
    "# assign regions to networks\n",
    "networks = []\n",
    "counter = 0\n",
    "for i, line in enumerate(info_text) :\n",
    "    if i % 2 == 0 :\n",
    "        counter += 1\n",
    "        if 'Vis' in line :\n",
    "            temp = 1\n",
    "        elif 'SomMot' in line :\n",
    "            temp = 2\n",
    "        elif 'DorsAttn' in line :\n",
    "            temp = 3\n",
    "        elif 'SalVentAttn' in line :\n",
    "            temp = 4\n",
    "        elif 'Limbic' in line :\n",
    "            temp = 5\n",
    "        elif 'Cont' in line:\n",
    "            temp = 6\n",
    "        elif 'Default' in line :\n",
    "            temp = 7\n",
    "        networks.append(temp)\n",
    "\n",
    "# generate imageS\n",
    "yeo = map_to_labels(np.array(networks), labeling, mask=labeling != 0)\n",
    "plot_hemispheres(surf_lh, surf_rh, array_name=yeo, size=(1200, 400),\n",
    "                    color_bar=True, zoom=1.5, cmap='yeo7')"
   ]
  }
 ],
 "metadata": {
  "kernelspec": {
   "display_name": "base",
   "language": "python",
   "name": "python3"
  },
  "language_info": {
   "codemirror_mode": {
    "name": "ipython",
    "version": 3
   },
   "file_extension": ".py",
   "mimetype": "text/x-python",
   "name": "python",
   "nbconvert_exporter": "python",
   "pygments_lexer": "ipython3",
   "version": "3.11.4"
  }
 },
 "nbformat": 4,
 "nbformat_minor": 2
}
