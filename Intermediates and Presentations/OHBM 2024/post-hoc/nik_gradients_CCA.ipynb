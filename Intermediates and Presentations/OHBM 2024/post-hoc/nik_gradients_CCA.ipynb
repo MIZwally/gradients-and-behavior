{
 "cells": [
  {
   "cell_type": "code",
   "execution_count": 1,
   "metadata": {},
   "outputs": [],
   "source": [
    "import numpy as np\n",
    "import pandas as pd\n",
    "from sklearn.cross_decomposition import CCA\n",
    "from CCA.utils import *\n",
    "import os\n",
    "import scipy"
   ]
  },
  {
   "cell_type": "code",
   "execution_count": 2,
   "metadata": {},
   "outputs": [],
   "source": [
    "Ypc = np.load('/data/NIMH_scratch/zwallymi/behavioral/new_regressed_behavioral_pca.npy')"
   ]
  },
  {
   "cell_type": "code",
   "execution_count": 3,
   "metadata": {},
   "outputs": [],
   "source": [
    "dir = '/data/NIMH_scratch/zwallymi/gradients/individual_files/parcellated/CCA_site_regressed_gradients'\n",
    "files = os.listdir(dir)\n",
    "gradients = [np.load(f'{dir}/{f}') for f in files]\n",
    "subjects = [x[4:8]+'_'+x[8:19] for x in files]"
   ]
  },
  {
   "cell_type": "code",
   "execution_count": 4,
   "metadata": {},
   "outputs": [],
   "source": [
    "flat_gradients = []\n",
    "for grad in gradients :\n",
    "    flat = np.hstack(grad)\n",
    "    flat_gradients.append(flat)\n",
    "all_gradients = np.array(flat_gradients)"
   ]
  },
  {
   "cell_type": "code",
   "execution_count": 5,
   "metadata": {},
   "outputs": [],
   "source": [
    "PCs, vari_explain, s = pca_wrap(all_gradients, method='vanilla', reg=1, ridge_reg=0.1)"
   ]
  },
  {
   "cell_type": "code",
   "execution_count": null,
   "metadata": {},
   "outputs": [],
   "source": [
    "vari_explain[:20]"
   ]
  },
  {
   "cell_type": "code",
   "execution_count": 7,
   "metadata": {},
   "outputs": [],
   "source": [
    "def seber_cca(Y, X, R, S):\n",
    "    N = Y.shape[0]\n",
    "    Qy, Ry, iY = scipy.linalg.qr((Y), mode='economic', pivoting=True)\n",
    "    Qx, Rx, iX = scipy.linalg.qr((X), mode='economic', pivoting=True)\n",
    "    K = min(np.linalg.matrix_rank(Y), np.linalg.matrix_rank(X))\n",
    "    QyTQx = Qy.T @ Qx\n",
    "    if K <= 6 or K == np.min(QyTQx.shape):\n",
    "        L, D, MT = scipy.linalg.svd(QyTQx)\n",
    "    else:\n",
    "        L, D, MT = scipy.sparse.linalg.svds(QyTQx, k=K)\n",
    "    \n",
    "    cc = np.minimum(np.maximum(D[:K], 0), 1)\n",
    "    A = np.linalg.pinv(Ry) @ (L[:, :K]) * np.sqrt(N - R)\n",
    "    B = np.linalg.pinv(Rx) @ (MT[:K, :].T) * np.sqrt(N - S)\n",
    "    A = A[iY]\n",
    "    B = B[iX]\n",
    "    return A, B, cc\n",
    "\n",
    "def center(X):\n",
    "    icte = np.sum(np.diff(X, axis=0) ** 2, axis=0) == 0\n",
    "    X = np.delete(X, np.where(icte), axis=1)\n",
    "    X = X - np.mean(X, axis=0)\n",
    "    return X"
   ]
  },
  {
   "cell_type": "code",
   "execution_count": null,
   "metadata": {},
   "outputs": [],
   "source": [
    "A, B, cc = seber_cca(center(Ypc), center(all_gradients), 2, 2)\n",
    "print(cc)"
   ]
  },
  {
   "cell_type": "code",
   "execution_count": null,
   "metadata": {},
   "outputs": [],
   "source": [
    "from CCA.permcca import permcca\n",
    "p, r, A, B, U, V, perm_dist = permcca(Ypc, all_gradients, 5)"
   ]
  }
 ],
 "metadata": {
  "kernelspec": {
   "display_name": "base",
   "language": "python",
   "name": "python3"
  },
  "language_info": {
   "codemirror_mode": {
    "name": "ipython",
    "version": 3
   },
   "file_extension": ".py",
   "mimetype": "text/x-python",
   "name": "python",
   "nbconvert_exporter": "python",
   "pygments_lexer": "ipython3",
   "version": "3.11.7"
  }
 },
 "nbformat": 4,
 "nbformat_minor": 2
}
